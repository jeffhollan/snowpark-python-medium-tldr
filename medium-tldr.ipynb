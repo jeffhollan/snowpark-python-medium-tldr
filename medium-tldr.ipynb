{
 "cells": [
  {
   "cell_type": "code",
   "execution_count": null,
   "id": "58bf9674-823e-4bd2-b37e-6327abeff180",
   "metadata": {},
   "outputs": [],
   "source": [
    "import json\n",
    "from snowflake.snowpark.session import Session\n",
    "from snowflake.snowpark.functions import *\n",
    "from snowflake.snowpark.types import *\n",
    "from config import snowflake_conn_prop\n",
    "import pandas as pd\n",
    "\n",
    "session = Session.builder.configs(snowflake_conn_prop).create()"
   ]
  },
  {
   "cell_type": "code",
   "execution_count": null,
   "id": "bc35d44a",
   "metadata": {},
   "outputs": [],
   "source": [
    "# how I would do in pandas\n",
    "df = pd.read_csv('./articles.csv')\n",
    "df.head(5)"
   ]
  },
  {
   "cell_type": "code",
   "execution_count": null,
   "id": "6839027a",
   "metadata": {},
   "outputs": [],
   "source": [
    "session.file.put('./articles.csv', '@~/', overwrite=True)\n",
    "schema = StructType([\n",
    "  StructField(\"author\", StringType()),\n",
    "  StructField(\"claps\", StringType()),\n",
    "  StructField(\"reading_time\", IntegerType()),\n",
    "  StructField(\"link\", StringType()),\n",
    "  StructField(\"title\", StringType()),\n",
    "  StructField(\"text\", StringType())\n",
    "])\n",
    "df = session.read.option(\"skip_header\", 1).option(\"field_delimiter\", \",\").option(\"FIELD_OPTIONALLY_ENCLOSED_BY\", \"\\\"\").schema(schema).csv('@~/articles.csv')\n",
    "df_pd = df.toPandas()\n",
    "df_pd.head(5)"
   ]
  },
  {
   "cell_type": "code",
   "execution_count": null,
   "id": "a8f58f5d",
   "metadata": {},
   "outputs": [],
   "source": [
    "# if I wanted to write this to a table (which I thought I had to do to run an external function)\n",
    "# df.write.mode('overwrite').save_as_table('articles')"
   ]
  },
  {
   "cell_type": "code",
   "execution_count": null,
   "id": "a80cb85f",
   "metadata": {},
   "outputs": [],
   "source": [
    "df_nonsql = df.limit(1).select(\n",
    "    *df.columns, call_builtin('my_external_function', df.text).alias(\"TL_DR\")\n",
    "    )\n",
    "df_nonsql.show()"
   ]
  }
 ],
 "metadata": {
  "kernelspec": {
   "display_name": "snowpark_86",
   "language": "python",
   "name": "snowpark_86"
  },
  "language_info": {
   "codemirror_mode": {
    "name": "ipython",
    "version": 3
   },
   "file_extension": ".py",
   "mimetype": "text/x-python",
   "name": "python",
   "nbconvert_exporter": "python",
   "pygments_lexer": "ipython3",
   "version": "3.8.13"
  }
 },
 "nbformat": 4,
 "nbformat_minor": 5
}
