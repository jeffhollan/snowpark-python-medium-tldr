{
 "cells": [
  {
   "cell_type": "code",
   "execution_count": null,
   "id": "58bf9674-823e-4bd2-b37e-6327abeff180",
   "metadata": {},
   "outputs": [],
   "source": [
    "import json\n",
    "from snowflake.snowpark.session import Session\n",
    "from snowflake.snowpark.functions import *\n",
    "from snowflake.snowpark.types import *\n",
    "from config import snowflake_conn_prop\n",
    "import pandas as pd\n",
    "\n",
    "session = Session.builder.configs(snowflake_conn_prop).create()"
   ]
  },
  {
   "cell_type": "code",
   "execution_count": null,
   "id": "bc35d44a",
   "metadata": {},
   "outputs": [],
   "source": [
    "# how I would do in pandas\n",
    "df = pd.read_csv('./medium_data.csv', index_col=0)\n",
    "df.head(5)\n",
    "# 6508 urls"
   ]
  },
  {
   "cell_type": "code",
   "execution_count": null,
   "id": "6839027a",
   "metadata": {},
   "outputs": [],
   "source": [
    "session.file.put('./medium_data.csv', '@~/', overwrite=True)\n",
    "schema = StructType([\n",
    "  StructField(\"id\", IntegerType()),\n",
    "  StructField(\"url\", StringType()),\n",
    "  StructField(\"title\", StringType()),\n",
    "  StructField(\"subtitle\", StringType()),\n",
    "  StructField(\"image\", StringType()),\n",
    "  StructField(\"claps\", IntegerType()),\n",
    "  StructField(\"responses\", VariantType()),\n",
    "  StructField(\"reading_time\", IntegerType()),\n",
    "  StructField(\"publication\", StringType()),\n",
    "  StructField(\"date\", DateType())\n",
    "])\n",
    "df = session.read.option(\"skip_header\", 1).option(\"field_delimiter\", \",\").option(\"FIELD_OPTIONALLY_ENCLOSED_BY\", \"\\\"\").schema(schema).csv('@~/medium_data.csv')\n",
    "df_pd = df.to_pandas().set_index('ID')"
   ]
  },
  {
   "cell_type": "code",
   "execution_count": null,
   "id": "7dd65183",
   "metadata": {},
   "outputs": [],
   "source": [
    "df_pd = df_pd.loc[~df_pd[\"URL\"].str.startswith('https://')]"
   ]
  },
  {
   "cell_type": "code",
   "execution_count": null,
   "id": "a80cb85f",
   "metadata": {},
   "outputs": [],
   "source": [
    "df_tldr = df.select(\n",
    "    df.url, df.title, call_builtin('url_resolve_and_summarize', df.url).alias(\"TL_DR\")\n",
    "    )\n",
    "\n",
    "df_tldr.write.save_as_table('medium_tldr', mode=\"overwrite\")"
   ]
  },
  {
   "cell_type": "code",
   "execution_count": null,
   "id": "3e8d2514",
   "metadata": {},
   "outputs": [],
   "source": []
  }
 ],
 "metadata": {
  "kernelspec": {
   "display_name": "snowpark_86",
   "language": "python",
   "name": "snowpark_86"
  },
  "language_info": {
   "codemirror_mode": {
    "name": "ipython",
    "version": 3
   },
   "file_extension": ".py",
   "mimetype": "text/x-python",
   "name": "python",
   "nbconvert_exporter": "python",
   "pygments_lexer": "ipython3",
   "version": "3.8.13"
  }
 },
 "nbformat": 4,
 "nbformat_minor": 5
}
