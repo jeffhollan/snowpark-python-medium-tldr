{
 "cells": [
  {
   "cell_type": "code",
   "execution_count": null,
   "id": "58bf9674-823e-4bd2-b37e-6327abeff180",
   "metadata": {},
   "outputs": [],
   "source": [
    "from pyspark.sql import SparkSession, functions as F\n",
    "import requests\n",
    "import os\n",
    "\n",
    "os.environ['PYSPARK_PYTHON'] = '/Users/jhollan/opt/miniconda3/envs/pyspark/bin/python'"
   ]
  },
  {
   "cell_type": "code",
   "execution_count": null,
   "id": "7f2475cd",
   "metadata": {},
   "outputs": [],
   "source": [
    "session = SparkSession.builder.appName(\"medium-tldr\").getOrCreate()"
   ]
  },
  {
   "cell_type": "code",
   "execution_count": null,
   "id": "b8e3851c",
   "metadata": {},
   "outputs": [],
   "source": [
    "df = session.read.csv('medium_data.csv', header=True)\n",
    "# df.show()\n",
    "df_pd = df.toPandas().set_index('id').head(5)"
   ]
  },
  {
   "cell_type": "code",
   "execution_count": null,
   "id": "7dd65183",
   "metadata": {},
   "outputs": [],
   "source": [
    "df_pd = df_pd.loc[~df_pd[\"url\"].str.startswith('https://')]\n",
    "df_pd.count()"
   ]
  },
  {
   "cell_type": "code",
   "execution_count": null,
   "id": "a80cb85f",
   "metadata": {},
   "outputs": [],
   "source": [
    "@F.udf(returnType=F.StringType())\n",
    "def callAnalyze(url):\n",
    "    res = requests.post('http://localhost:8080/', json={'article_url': url})\n",
    "    return res.text"
   ]
  },
  {
   "cell_type": "code",
   "execution_count": null,
   "id": "e2bab1b6",
   "metadata": {},
   "outputs": [],
   "source": [
    "df_tldr = df.select(callAnalyze(F.col('url')))"
   ]
  },
  {
   "cell_type": "code",
   "execution_count": null,
   "id": "b09366f5",
   "metadata": {},
   "outputs": [],
   "source": [
    "df_tldr.toPandas().head(5)"
   ]
  }
 ],
 "metadata": {
  "kernelspec": {
   "display_name": "snowpark_86",
   "language": "python",
   "name": "snowpark_86"
  },
  "language_info": {
   "codemirror_mode": {
    "name": "ipython",
    "version": 3
   },
   "file_extension": ".py",
   "mimetype": "text/x-python",
   "name": "python",
   "nbconvert_exporter": "python",
   "pygments_lexer": "ipython3",
   "version": "3.8.13"
  }
 },
 "nbformat": 4,
 "nbformat_minor": 5
}
